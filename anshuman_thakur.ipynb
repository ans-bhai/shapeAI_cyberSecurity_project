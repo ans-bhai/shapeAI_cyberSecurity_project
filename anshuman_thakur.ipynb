{
  "nbformat": 4,
  "nbformat_minor": 0,
  "metadata": {
    "colab": {
      "name": "anshuman_thakur.ipynb",
      "provenance": []
    },
    "kernelspec": {
      "name": "python3",
      "display_name": "Python 3"
    },
    "language_info": {
      "name": "python"
    }
  },
  "cells": [
    {
      "cell_type": "code",
      "metadata": {
        "id": "g4vVVZhs3CLY"
      },
      "source": [
        "import requests"
      ],
      "execution_count": 1,
      "outputs": []
    },
    {
      "cell_type": "code",
      "metadata": {
        "id": "O4dgiwpz3uP8"
      },
      "source": [
        "from datetime import datetime"
      ],
      "execution_count": 2,
      "outputs": []
    },
    {
      "cell_type": "code",
      "metadata": {
        "colab": {
          "base_uri": "https://localhost:8080/"
        },
        "id": "K4UPO1Ee3uZI",
        "outputId": "4d391f43-b3f2-43d8-cc2a-010d04cf6a1c"
      },
      "source": [
        "api_key ='28cff38b4667f0fe1f631a3436465f8c'\n",
        "location =input(\"enter the city name   :\")\n",
        "complete_api_link= \"https://api.openweathermap.org/data/2.5/weather?q=\"+location+\"&appid=\"+api_key\n",
        "api_link = requests.get (complete_api_link)\n",
        "api_data = api_link.json()\n",
        "\n",
        "temp_city= ((api_data['main']['temp'])-273.15)\n",
        "\n",
        "weather_desc = api_data['weather'][0]['description']\n",
        "\n",
        "hmdt = api_data['main']['humidity']\n",
        "\n",
        "wind_spd = api_data['wind' ]['speed']\n",
        "\n",
        "date_time = datetime.now().strftime (\"%d %b %Y %I:%M:%S %p\")\n",
        "\n",
        "print (\"---------------------------------------------------------------\") \n",
        "print (\"Weather Stats for {} || {}\".format(location.upper(), date_time))\n",
        "print (\"-------------------------------------------------------------\")\n",
        "\n",
        "print (\"Current temperature is: {:.2f} deg C\". format (temp_city))\n",
        "\n",
        "print (\"Current weather desc :\", weather_desc)\n",
        "\n",
        "print (\"Current Humidity :\", hmdt, '%')\n",
        "\n",
        "print (\"Current wind speed :\",wind_spd,'kmph')"
      ],
      "execution_count": 9,
      "outputs": [
        {
          "output_type": "stream",
          "text": [
            "enter the city name   :hamirpur\n",
            "---------------------------------------------------------------\n",
            "Weather Stats for HAMIRPUR || 26 Jun 2021 03:17:01 PM\n",
            "-------------------------------------------------------------\n",
            "Current temperature is: 33.93 deg C\n",
            "Current weather desc : overcast clouds\n",
            "Current Humidity : 48 %\n",
            "Current wind speed : 5.74 kmph\n"
          ],
          "name": "stdout"
        }
      ]
    }
  ]
}